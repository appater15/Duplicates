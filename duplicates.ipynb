{
 "cells": [
  {
   "cell_type": "markdown",
   "metadata": {},
   "outputs": [],
   "source": [
    "# Approximate string matching in Pandas"
   ]
  },
  {
   "cell_type": "code",
   "execution_count": 6,
   "metadata": {},
   "outputs": [],
   "source": [
    "from duplicates import strip_frequently_used_word, Duplicates\n",
    "import pandas as pd"
   ]
  },
  {
   "cell_type": "code",
   "execution_count": 7,
   "metadata": {},
   "outputs": [
    {
     "data": {
      "text/html": "<div>\n<style scoped>\n    .dataframe tbody tr th:only-of-type {\n        vertical-align: middle;\n    }\n\n    .dataframe tbody tr th {\n        vertical-align: top;\n    }\n\n    .dataframe thead th {\n        text-align: right;\n    }\n</style>\n<table border=\"1\" class=\"dataframe\">\n  <thead>\n    <tr style=\"text-align: right;\">\n      <th></th>\n      <th>code_postal</th>\n      <th>first name</th>\n      <th>name</th>\n      <th>age</th>\n    </tr>\n  </thead>\n  <tbody>\n    <tr>\n      <th>0</th>\n      <td>69100</td>\n      <td>Barrack</td>\n      <td>Obama</td>\n      <td>50</td>\n    </tr>\n    <tr>\n      <th>1</th>\n      <td>69100</td>\n      <td>Barack</td>\n      <td>Obama</td>\n      <td>Fifty</td>\n    </tr>\n    <tr>\n      <th>2</th>\n      <td>69100</td>\n      <td>Barrac</td>\n      <td>Obama</td>\n      <td>50.2</td>\n    </tr>\n    <tr>\n      <th>3</th>\n      <td>69100</td>\n      <td>Donald</td>\n      <td>Trump</td>\n      <td>60</td>\n    </tr>\n    <tr>\n      <th>4</th>\n      <td>69100</td>\n      <td>Dodonalds</td>\n      <td>Trump</td>\n      <td>Sixty</td>\n    </tr>\n  </tbody>\n</table>\n</div>",
      "text/plain": "  code_postal first name   name    age\n0       69100    Barrack  Obama     50\n1       69100     Barack  Obama  Fifty\n2       69100     Barrac  Obama   50.2\n3       69100     Donald  Trump     60\n4       69100  Dodonalds  Trump  Sixty"
     },
     "execution_count": 7,
     "metadata": {},
     "output_type": "execute_result"
    }
   ],
   "source": [
    "# initialize list of lists \n",
    "data = [['69100', \"Barrack\", \"Obama\", \"50\"],\n",
    "        ['69100', \"Barack\", \"Obama\", \"Fifty\"],\n",
    "        ['69100', \"Barrac\", \"Obama\", 50.2],\n",
    "        ['69100', \"Donald\", \"Trump\", \"60\"],\n",
    "        ['69100', \"Dodonalds\", \"Trump\", \"Sixty\"]]\n",
    "  \n",
    "# Create the pandas DataFrame containing approximate duplicates\n",
    "df = pd.DataFrame(data, columns = ['code_postal', 'first name', 'name', 'age']) \n",
    "\n",
    "df"
   ]
  },
  {
   "cell_type": "code",
   "execution_count": 8,
   "metadata": {},
   "outputs": [],
   "source": [
    "# Name of the columns on which we seek the approximate duplicates\n",
    "columns_merge = ['first name', 'name']\n",
    "\n",
    "# Name of the colunm on which we seek the exact duplicates : \"code_postal\". This columns is mandatory."
   ]
  },
  {
   "cell_type": "markdown",
   "metadata": {},
   "outputs": [],
   "source": [
    "# Step 1 : We add a column containing crosses on the approximate duplicates."
   ]
  },
  {
   "cell_type": "code",
   "execution_count": 9,
   "metadata": {},
   "outputs": [
    {
     "name": "stdout",
     "output_type": "stream",
     "text": "Analyzing the duplicates ...\n0 1\n"
    },
    {
     "data": {
      "text/html": "<div>\n<style scoped>\n    .dataframe tbody tr th:only-of-type {\n        vertical-align: middle;\n    }\n\n    .dataframe tbody tr th {\n        vertical-align: top;\n    }\n\n    .dataframe thead th {\n        text-align: right;\n    }\n</style>\n<table border=\"1\" class=\"dataframe\">\n  <thead>\n    <tr style=\"text-align: right;\">\n      <th></th>\n      <th>index</th>\n      <th>first name</th>\n      <th>name</th>\n      <th>age</th>\n      <th>code_postal</th>\n      <th>match_id</th>\n      <th>first_line_match_id</th>\n      <th>matching_score</th>\n      <th>source_duplicates</th>\n      <th>id_duplicates</th>\n      <th>check</th>\n    </tr>\n  </thead>\n  <tbody>\n    <tr>\n      <th>0</th>\n      <td>0</td>\n      <td>Barrack</td>\n      <td>Obama</td>\n      <td>50</td>\n      <td>69100</td>\n      <td>0.0</td>\n      <td>1.0</td>\n      <td>NaN</td>\n      <td>automatically merged</td>\n      <td>0.0</td>\n      <td>x</td>\n    </tr>\n    <tr>\n      <th>1</th>\n      <td>0</td>\n      <td>Barack</td>\n      <td>Obama</td>\n      <td>Fifty</td>\n      <td>69100</td>\n      <td>0.0</td>\n      <td>0.0</td>\n      <td>92.0</td>\n      <td>automatically merged</td>\n      <td>1.0</td>\n      <td>x</td>\n    </tr>\n    <tr>\n      <th>2</th>\n      <td>1</td>\n      <td>Barrac</td>\n      <td>Obama</td>\n      <td>50.2</td>\n      <td>69100</td>\n      <td>0.0</td>\n      <td>0.0</td>\n      <td>92.0</td>\n      <td>automatically merged</td>\n      <td>2.0</td>\n      <td>x</td>\n    </tr>\n    <tr>\n      <th>3</th>\n      <td>1</td>\n      <td>Barack</td>\n      <td>Obama</td>\n      <td>Fifty</td>\n      <td>69100</td>\n      <td>1.0</td>\n      <td>1.0</td>\n      <td>NaN</td>\n      <td>manual check</td>\n      <td>1.0</td>\n      <td></td>\n    </tr>\n    <tr>\n      <th>4</th>\n      <td>2</td>\n      <td>Barrac</td>\n      <td>Obama</td>\n      <td>50.2</td>\n      <td>69100</td>\n      <td>1.0</td>\n      <td>0.0</td>\n      <td>83.0</td>\n      <td>manual check</td>\n      <td>2.0</td>\n      <td>NaN</td>\n    </tr>\n    <tr>\n      <th>5</th>\n      <td>2</td>\n      <td>Barrac</td>\n      <td>Obama</td>\n      <td>50.2</td>\n      <td>69100</td>\n      <td>2.0</td>\n      <td>1.0</td>\n      <td>NaN</td>\n      <td>single</td>\n      <td>2.0</td>\n      <td>NaN</td>\n    </tr>\n    <tr>\n      <th>6</th>\n      <td>3</td>\n      <td>Donald</td>\n      <td>Trump</td>\n      <td>60</td>\n      <td>69100</td>\n      <td>3.0</td>\n      <td>1.0</td>\n      <td>NaN</td>\n      <td>manual check</td>\n      <td>3.0</td>\n      <td></td>\n    </tr>\n    <tr>\n      <th>7</th>\n      <td>4</td>\n      <td>Dodonalds</td>\n      <td>Trump</td>\n      <td>Sixty</td>\n      <td>69100</td>\n      <td>3.0</td>\n      <td>0.0</td>\n      <td>80.0</td>\n      <td>manual check</td>\n      <td>4.0</td>\n      <td>NaN</td>\n    </tr>\n    <tr>\n      <th>8</th>\n      <td>4</td>\n      <td>Dodonalds</td>\n      <td>Trump</td>\n      <td>Sixty</td>\n      <td>69100</td>\n      <td>4.0</td>\n      <td>1.0</td>\n      <td>NaN</td>\n      <td>single</td>\n      <td>4.0</td>\n      <td>NaN</td>\n    </tr>\n  </tbody>\n</table>\n</div>",
      "text/plain": "   index first name   name    age code_postal  match_id  first_line_match_id  \\\n0      0    Barrack  Obama     50       69100       0.0                  1.0   \n1      0     Barack  Obama  Fifty       69100       0.0                  0.0   \n2      1     Barrac  Obama   50.2       69100       0.0                  0.0   \n3      1     Barack  Obama  Fifty       69100       1.0                  1.0   \n4      2     Barrac  Obama   50.2       69100       1.0                  0.0   \n5      2     Barrac  Obama   50.2       69100       2.0                  1.0   \n6      3     Donald  Trump     60       69100       3.0                  1.0   \n7      4  Dodonalds  Trump  Sixty       69100       3.0                  0.0   \n8      4  Dodonalds  Trump  Sixty       69100       4.0                  1.0   \n\n   matching_score     source_duplicates  id_duplicates check  \n0             NaN  automatically merged            0.0     x  \n1            92.0  automatically merged            1.0     x  \n2            92.0  automatically merged            2.0     x  \n3             NaN          manual check            1.0        \n4            83.0          manual check            2.0   NaN  \n5             NaN                single            2.0   NaN  \n6             NaN          manual check            3.0        \n7            80.0          manual check            4.0   NaN  \n8             NaN                single            4.0   NaN  "
     },
     "execution_count": 9,
     "metadata": {},
     "output_type": "execute_result"
    }
   ],
   "source": [
    "duplicates = Duplicates()\n",
    "\n",
    "df_intermediate = duplicates.create_check(df, columns_merge=columns_merge, additional_columns_in_check=[\"age\"], TRESHOLD_INF=50, TRESHOLD_SUP=90, merge_also_equality=True)\n",
    "\n",
    "df_intermediate"
   ]
  },
  {
   "cell_type": "markdown",
   "execution_count": null,
   "metadata": {},
   "outputs": [],
   "source": [
    "If some duplicates are very different, you can delete them by hand by adding the crosses noted \"x\" in the column check. For example, here Dodonald trump has a matching score of 80 with Donald. 80 is below the Treshold_inf = 90 so he was not considered as a duplicate."
   ]
  },
  {
   "cell_type": "markdown",
   "metadata": {},
   "outputs": [],
   "source": [
    "# Step 2 : And finally we delete the approximate duplicates"
   ]
  },
  {
   "cell_type": "code",
   "execution_count": 10,
   "metadata": {},
   "outputs": [
    {
     "name": "stdout",
     "output_type": "stream",
     "text": "1/3 analyse done\n2/3 alones done\n3/3 Matches done\nDone\n"
    },
    {
     "data": {
      "text/html": "<div>\n<style scoped>\n    .dataframe tbody tr th:only-of-type {\n        vertical-align: middle;\n    }\n\n    .dataframe tbody tr th {\n        vertical-align: top;\n    }\n\n    .dataframe thead th {\n        text-align: right;\n    }\n</style>\n<table border=\"1\" class=\"dataframe\">\n  <thead>\n    <tr style=\"text-align: right;\">\n      <th></th>\n      <th>source_duplicates</th>\n      <th>code_postal</th>\n      <th>first name</th>\n      <th>name</th>\n      <th>age</th>\n      <th>source</th>\n    </tr>\n  </thead>\n  <tbody>\n    <tr>\n      <th>3</th>\n      <td>alone</td>\n      <td>69100</td>\n      <td>Donald</td>\n      <td>Trump</td>\n      <td>60</td>\n      <td></td>\n    </tr>\n    <tr>\n      <th>4</th>\n      <td>alone</td>\n      <td>69100</td>\n      <td>Dodonalds</td>\n      <td>Trump</td>\n      <td>Sixty</td>\n      <td></td>\n    </tr>\n    <tr>\n      <th>0</th>\n      <td>duplicates</td>\n      <td>69100</td>\n      <td>Barrack</td>\n      <td>Obama</td>\n      <td>50</td>\n      <td></td>\n    </tr>\n  </tbody>\n</table>\n</div>",
      "text/plain": "  source_duplicates code_postal first name   name    age source\n3             alone       69100     Donald  Trump     60       \n4             alone       69100  Dodonalds  Trump  Sixty       \n0        duplicates       69100    Barrack  Obama     50       "
     },
     "execution_count": 10,
     "metadata": {},
     "output_type": "execute_result"
    }
   ],
   "source": [
    "df_without_duplicates = duplicates.merge(df, df_intermediate, columns_merge=columns_merge)\n",
    "df_without_duplicates"
   ]
  },
  {
   "cell_type": "markdown",
   "metadata": {},
   "outputs": [],
   "source": []
  }
 ],
 "metadata": {
  "kernelspec": {
   "display_name": "Python 3",
   "language": "python",
   "name": "python3"
  },
  "language_info": {
   "codemirror_mode": {
    "name": "ipython",
    "version": 3
   },
   "file_extension": ".py",
   "mimetype": "text/x-python",
   "name": "python",
   "nbconvert_exporter": "python",
   "pygments_lexer": "ipython3",
   "version": "3.8.0"
  }
 },
 "nbformat": 4,
 "nbformat_minor": 2
}